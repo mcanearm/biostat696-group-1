{
 "cells": [
  {
   "cell_type": "code",
   "execution_count": null,
   "metadata": {},
   "outputs": [],
   "source": [
    "import polars as pl\n",
    "import geopandas as gpd\n",
    "from pathlib import Path\n",
    "import folium\n",
    "import pandas as pd\n",
    "import numpy as np\n",
    "\n",
    "from matplotlib import pyplot as plt"
   ]
  },
  {
   "cell_type": "markdown",
   "metadata": {},
   "source": [
    "# Data Load\n",
    "\n",
    "First, we read in the shapefile for the gridcell covariates.\n",
    "\n",
    "We will be using EPSG 3174 for the Great Lakes coordinate system, followed by EPSG:4326 for plotting.\n",
    "\n",
    "See https://epsg.io/3174 and https://epsg.io/4326\n",
    "\n",
    "try epsg 2163 - clear outputs"
   ]
  },
  {
   "cell_type": "code",
   "execution_count": null,
   "metadata": {},
   "outputs": [],
   "source": [
    "bat_covars = gpd.read_file(\"data/data/NABat_grid_covariates/NABat_grid_covariates.shp\")\n",
    "stations = pd.read_excel(\"data/data/USFWS_Bat_Acoustic_Data/Metadata.xlsx\", sheet_name='AcousticSites')\n",
    "pass_counts = pd.read_excel(\"data/data/USFWS_Bat_Acoustic_Data/NightlyPassCounts.xlsx\")\n",
    "water_bodies = gpd.read_file(\"data/data/USA_Detailed_Water_Bodies/USA_Detailed_Water_Bodies.shp\")\n",
    "lakes = gpd.read_file(\"data/data/rivers_and_lakes_shapefile/NA_Lakes_and_Rivers/data/lakes_p/northamerica_lakes_cec_2023.shp\")\n",
    "rivers = gpd.read_file(\"data/data/rivers_and_lakes_shapefile/NA_Lakes_and_Rivers/data/rivers_l/northamerica_rivers_cec_2023.shp\")\n"
   ]
  },
  {
   "cell_type": "code",
   "execution_count": null,
   "metadata": {},
   "outputs": [],
   "source": [
    "lakes = lakes.to_crs(epsg=2163)\n",
    "rivers = rivers.to_crs(epsg=2163)\n",
    "lakes.plot()\n",
    "rivers.plot()"
   ]
  },
  {
   "cell_type": "code",
   "execution_count": null,
   "metadata": {},
   "outputs": [],
   "source": [
    "water_bodies = water_bodies.to_crs(epsg=2163)\n",
    "water_bodies.head()\n",
    "# water_bodies = water_bodies[water_bodies[\"SQKM\"] > 1.0]\n",
    "# all_water_bodies = gpd.GeoDataFrame(all_water_bodies, geometry='geometry')\n"
   ]
  },
  {
   "cell_type": "code",
   "execution_count": null,
   "metadata": {},
   "outputs": [],
   "source": [
    "all_water_bodies = gpd.GeoDataFrame(pd.concat([\n",
    "    water_bodies,\n",
    "    lakes,\n",
    "    rivers\n",
    "], axis=0, ignore_index=True), geometry='geometry')\n",
    "\n",
    "all_water_bodies[\"NAME\"] = all_water_bodies[\"NAME\"].combine_first(all_water_bodies[\"NameEn\"]).combine_first(all_water_bodies[\"NameEs\"]).combine_first(all_water_bodies[\"NameFr\"]).fillna(\"Unknown\")\n",
    "all_water_bodies.head()\n"
   ]
  },
  {
   "cell_type": "code",
   "execution_count": null,
   "metadata": {},
   "outputs": [],
   "source": [
    "all_water_bodies.columns"
   ]
  },
  {
   "cell_type": "code",
   "execution_count": null,
   "metadata": {},
   "outputs": [],
   "source": [
    "stations[\"geometry\"] = gpd.points_from_xy(stations[\"Long\"], stations[\"Lat\"], crs=\"EPSG:4326\").to_crs(epsg=2163)\n",
    "stations = gpd.GeoDataFrame(stations, geometry='geometry')"
   ]
  },
  {
   "cell_type": "markdown",
   "metadata": {},
   "source": [
    "Now, merge the two datasets together."
   ]
  },
  {
   "cell_type": "code",
   "execution_count": null,
   "metadata": {},
   "outputs": [],
   "source": [
    "station_plus_water = (\n",
    "    gpd.sjoin_nearest(\n",
    "        stations, all_water_bodies, how=\"left\", distance_col=\"dist_to_water\", rsuffix=\"_water\"\n",
    "    )\n",
    "    .sort_values(\"dist_to_water\", ascending=False)\n",
    "    .groupby(\"AcousticSite\")\n",
    "    .nth(0)\n",
    ")\n",
    "\n",
    "nearest_water = all_water_bodies.loc[station_plus_water[\"index__water\"]]\n",
    "\n",
    "# station_plus_water = station_plus_water.set_geometry(\"geometry\")\n",
    "\n",
    "station_plus_water = station_plus_water.to_crs(\"EPSG:4326\")\n",
    "station_plus_water.plot()\n",
    "\n",
    "water_geom = nearest_water[[\"NAME\", \"geometry\"]].to_crs(\"EPSG:4326\")\n",
    "water_geom.plot()\n"
   ]
  },
  {
   "cell_type": "code",
   "execution_count": null,
   "metadata": {},
   "outputs": [],
   "source": [
    "if True:\n",
    "    m = folium.Map(zoom_start=4, location=[38.5, -90.0])\n",
    "    plotted_geoms = set()\n",
    "    i = 0\n",
    "    for (row, water_geo) in zip(station_plus_water.iterrows(), water_geom.iterrows()):\n",
    "\n",
    "        # print(i)\n",
    "        _, r = row\n",
    "        _, w = water_geo\n",
    "        poly_dat = gpd.GeoSeries(r[\"geometry\"]).to_json()\n",
    "\n",
    "        water_dat = gpd.GeoSeries(w[\"geometry\"]).to_json()\n",
    "        geo_j = folium.GeoJson(data=poly_dat)\n",
    "        water_j = folium.GeoJson(data=water_dat)\n",
    "        info = pd.DataFrame(\n",
    "            r[[\"AcousticSite\", 2011, 2012, 2013, 2014, 2015, 2016, 2017, 2018, \"dist_to_water\", \"NAME\"]],\n",
    "        ).to_html()\n",
    "\n",
    "        w_info = w[\"NAME\"]\n",
    "\n",
    "        folium.Popup(info).add_to(geo_j)\n",
    "        folium.Popup(w_info).add_to(water_j)\n",
    "\n",
    "        geo_j.add_to(m)\n",
    "        if water_dat not in plotted_geoms:\n",
    "            water_j.add_to(m)\n",
    "            plotted_geoms.add(water_dat)\n",
    "\n",
    "        i += 1\n",
    "        if i % 50 == 0:\n",
    "            print(f\"{i} ({i/len(station_plus_water)*100:.0f}%)\")\n",
    "        \n",
    "\n",
    "    m.save(\"bat_maps_distance.html\")"
   ]
  },
  {
   "cell_type": "code",
   "execution_count": null,
   "metadata": {},
   "outputs": [],
   "source": [
    "m"
   ]
  },
  {
   "cell_type": "code",
   "execution_count": null,
   "metadata": {},
   "outputs": [],
   "source": [
    "station_plus_water = station_plus_water.reset_index()\n",
    "station_plus_water[\"water_geom\"] = water_geom.reset_index()[\"geometry\"]"
   ]
  },
  {
   "cell_type": "code",
   "execution_count": null,
   "metadata": {},
   "outputs": [],
   "source": [
    "water_body_size = (\n",
    "    station_plus_water[\"SQKM\"]\n",
    "    .combine_first(station_plus_water[\"AreaSqKm\"])\n",
    "    .combine_first(station_plus_water[\"LengthKm\"])\n",
    ")\n",
    "\n",
    "\n",
    "station_water_metadata = (\n",
    "    station_plus_water.assign(water_size=water_body_size)[\n",
    "        [\n",
    "            \"AcousticSite\",\n",
    "            \"Lat\",\n",
    "            \"Long\",\n",
    "            \"geometry\",\n",
    "            2010,\n",
    "            2011,\n",
    "            2012,\n",
    "            2013,\n",
    "            2014,\n",
    "            2015,\n",
    "            2016,\n",
    "            2017,\n",
    "            2018,\n",
    "            \"EPTFUS\",\n",
    "            \"LASBOR\",\n",
    "            \"LASCIN\",\n",
    "            \"LASNOC\",\n",
    "            \"MYOLUC\",\n",
    "            \"MYOSEP\",\n",
    "            \"PERSUB\",\n",
    "            \"MYOLEI\",\n",
    "            \"MYOSOD\",\n",
    "            \"NYCHUM\",\n",
    "            \"CORRAF\",\n",
    "            \"ANTPAL\",\n",
    "            \"LASINT\",\n",
    "            \"TADBRA\",\n",
    "            \"dist_to_water\",\n",
    "            \"NAME\",\n",
    "            \"water_size\",\n",
    "            \"water_geom\",\n",
    "        ]\n",
    "    ]\n",
    "    .rename(\n",
    "        {\n",
    "            \"NAME\": \"water_name\",\n",
    "            2010: \"nights_2010\",\n",
    "            2011: \"nights_2011\",\n",
    "            2012: \"nights_2012\",\n",
    "            2013: \"nights_2013\",\n",
    "            2014: \"nights_2014\",\n",
    "            2015: \"nights_2015\",\n",
    "            2016: \"nights_2016\",\n",
    "            2017: \"nights_2017\",\n",
    "            2018: \"nights_2018\",\n",
    "        },\n",
    "        axis=1,\n",
    "    )\n",
    ")\n",
    "\n",
    "station_water_metadata.to_csv(\"./data/data/stations_with_water.csv\", index=True)\n",
    "station_water_metadata.head()"
   ]
  },
  {
   "cell_type": "code",
   "execution_count": null,
   "metadata": {},
   "outputs": [],
   "source": [
    "bat_counts = pl.read_excel(\"data/data/USFWS_Bat_Acoustic_Data/NightlyPassCounts.xlsx\")\n",
    "bat_counts.columns"
   ]
  },
  {
   "cell_type": "code",
   "execution_count": null,
   "metadata": {},
   "outputs": [],
   "source": [
    "bat_count_agg = (\n",
    "    bat_counts.group_by_dynamic(\"NightOf\", every=\"1y\", group_by=\"AcousticSite\")\n",
    "    .agg(\n",
    "        pl.col(\n",
    "            \"ALL\",\n",
    "            \"EPTFUS\",\n",
    "            \"LASBOR\",\n",
    "            \"LASCIN\",\n",
    "            \"LASNOC\",\n",
    "            \"MYOLUC\",\n",
    "            \"MYOSEP\",\n",
    "            \"PERSUB\",\n",
    "            \"MYOLEI\",\n",
    "            \"MYOSOD\",\n",
    "            \"NYCHUM\",\n",
    "            \"CORRAF\",\n",
    "            \"ANTPAL\",\n",
    "            \"LASINT\",\n",
    "            \"TADBRA\",\n",
    "        ).sum()\n",
    "    )\n",
    "    .with_columns(pl.col(\"NightOf\").dt.year().alias(\"Year\"))\n",
    "    .to_pandas()\n",
    ")\n",
    "bat_count_agg"
   ]
  },
  {
   "cell_type": "code",
   "execution_count": null,
   "metadata": {},
   "outputs": [],
   "source": [
    "station_water_metadata\n",
    "\n",
    "all_bat_maps = pd.merge(\n",
    "    bat_count_agg,\n",
    "    station_water_metadata,\n",
    "    left_on=\"AcousticSite\",\n",
    "    right_on=\"AcousticSite\",\n",
    "    how=\"left\",\n",
    "    suffixes=(\"_count\", \"_meta\"),\n",
    ")\n",
    "all_bat_maps"
   ]
  },
  {
   "cell_type": "code",
   "execution_count": null,
   "metadata": {},
   "outputs": [],
   "source": [
    "m = folium.Map(zoom_start=4, location=[38.5, -90.0])\n",
    "i = 0\n",
    "plotted_water = set()\n",
    "for station, df in all_bat_maps.groupby(\"AcousticSite\"):\n",
    "    water_json = gpd.GeoSeries(data=df[\"water_geom\"].iloc[0]).set_crs(\"EPSG:4326\").to_json()\n",
    "    geo_j = folium.GeoJson(gpd.GeoSeries(data=df[\"geometry\"].iloc[0]).to_json())\n",
    "    water_j = folium.GeoJson(water_json)\n",
    "\n",
    "    # Create HTML block -- CoPilot\n",
    "    top_level_info = f\"\"\"\n",
    "    <div>\n",
    "        <h4>{df[\"AcousticSite\"].iloc[0]}</h4>\n",
    "        <p><strong>Distance to Water:</strong> {df[\"dist_to_water\"].iloc[0]:0.0f}</p>\n",
    "        <p><strong>Water Name:</strong> {df[\"water_name\"].iloc[0]}</p>\n",
    "        <ul>\n",
    "    \"\"\"\n",
    "    for _, row in df.iterrows():\n",
    "        top_level_info += f\"<li>{row['Year']}: {row['ALL']}</li>\"\n",
    "    top_level_info += \"</ul></div>\"\n",
    "\n",
    "    geo_info = top_level_info\n",
    "    w_info = df[\"water_name\"].iloc[0]\n",
    "\n",
    "    folium.Popup(geo_info, max_width=200).add_to(geo_j)\n",
    "    folium.Popup(w_info, max_width=200).add_to(water_j)\n",
    "\n",
    "    geo_j.add_to(m)\n",
    "\n",
    "    if water_json not in plotted_water:\n",
    "        water_j.add_to(m)\n",
    "        plotted_water.add(water_json)\n",
    "\n",
    "    i += 1\n"
   ]
  },
  {
   "cell_type": "code",
   "execution_count": null,
   "metadata": {},
   "outputs": [],
   "source": [
    "m.save(\"bat_counts.html\")\n",
    "m"
   ]
  },
  {
   "cell_type": "code",
   "execution_count": null,
   "metadata": {},
   "outputs": [],
   "source": [
    "all_bat_maps.to_csv(\"data/data/annual_bat_counts.csv\", index=False)\n"
   ]
  },
  {
   "cell_type": "code",
   "execution_count": null,
   "metadata": {},
   "outputs": [],
   "source": [
    "all_bat_maps.head()"
   ]
  }
 ],
 "metadata": {
  "kernelspec": {
   "display_name": "bats",
   "language": "python",
   "name": "python3"
  },
  "language_info": {
   "codemirror_mode": {
    "name": "ipython",
    "version": 3
   },
   "file_extension": ".py",
   "mimetype": "text/x-python",
   "name": "python",
   "nbconvert_exporter": "python",
   "pygments_lexer": "ipython3",
   "version": "3.13.2"
  }
 },
 "nbformat": 4,
 "nbformat_minor": 2
}
