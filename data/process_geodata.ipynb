{
 "cells": [
  {
   "cell_type": "code",
   "execution_count": null,
   "metadata": {},
   "outputs": [],
   "source": [
    "import polars as pl\n",
    "import geopandas as gpd\n",
    "from pathlib import Path\n",
    "import folium\n",
    "import pandas as pd\n",
    "import numpy as np\n",
    "\n",
    "from matplotlib import pyplot as plt"
   ]
  },
  {
   "cell_type": "markdown",
   "metadata": {},
   "source": [
    "# Data Load\n",
    "\n",
    "First, we read in the shapefile for the gridcell covariates.\n",
    "\n",
    "We will be using EPSG 3174 for the Great Lakes coordinate system, followed by EPSG:4326 for plotting.\n",
    "\n",
    "See https://epsg.io/3174 and https://epsg.io/4326\n",
    "\n",
    "try epsg 2163 - clear outputs"
   ]
  },
  {
   "cell_type": "code",
   "execution_count": null,
   "metadata": {},
   "outputs": [],
   "source": [
    "bat_covars = gpd.read_file(\"data/data/NABat_grid_covariates/NABat_grid_covariates.shp\")\n",
    "stations = pd.read_excel(\"data/data/USFWS_Bat_Acoustic_Data/Metadata.xlsx\", sheet_name='AcousticSites')\n",
    "pass_counts = pd.read_excel(\"data/data/USFWS_Bat_Acoustic_Data/NightlyPassCounts.xlsx\")\n",
    "water_bodies = gpd.read_file(\"data/data/USA_Detailed_Water_Bodies/USA_Detailed_Water_Bodies.shp\")\n",
    "lakes = gpd.read_file(\"data/data/rivers_and_lakes_shapefile/NA_Lakes_and_Rivers/data/lakes_p/northamerica_lakes_cec_2023.shp\")\n",
    "rivers = gpd.read_file(\"data/data/rivers_and_lakes_shapefile/NA_Lakes_and_Rivers/data/rivers_l/northamerica_rivers_cec_2023.shp\")\n"
   ]
  },
  {
   "cell_type": "code",
   "execution_count": null,
   "metadata": {},
   "outputs": [],
   "source": [
    "lakes = lakes.to_crs(epsg=2163)\n",
    "rivers = rivers.to_crs(epsg=2163)\n",
    "lakes.plot()\n",
    "rivers.plot()"
   ]
  },
  {
   "cell_type": "code",
   "execution_count": null,
   "metadata": {},
   "outputs": [],
   "source": [
    "water_bodies = water_bodies.to_crs(epsg=2163)\n",
    "water_bodies.head()\n",
    "# water_bodies = water_bodies[water_bodies[\"SQKM\"] > 1.0]\n",
    "# all_water_bodies = gpd.GeoDataFrame(all_water_bodies, geometry='geometry')\n",
    "\n",
    "water_bodies.plot()"
   ]
  },
  {
   "cell_type": "code",
   "execution_count": null,
   "metadata": {},
   "outputs": [],
   "source": [
    "all_water_bodies = gpd.GeoDataFrame(pd.concat([\n",
    "    water_bodies,\n",
    "    lakes,\n",
    "    rivers\n",
    "], axis=0, ignore_index=True), geometry='geometry')\n",
    "\n",
    "all_water_bodies[\"NAME\"] = all_water_bodies[\"NAME\"].combine_first(all_water_bodies[\"NameEn\"]).fillna(\"Unknown\")\n",
    "all_water_bodies.head()\n"
   ]
  },
  {
   "cell_type": "code",
   "execution_count": null,
   "metadata": {},
   "outputs": [],
   "source": [
    "stations[\"geometry\"] = gpd.points_from_xy(stations[\"Long\"], stations[\"Lat\"], crs=\"EPSG:4326\").to_crs(epsg=2163)\n",
    "stations = gpd.GeoDataFrame(stations, geometry='geometry')"
   ]
  },
  {
   "cell_type": "markdown",
   "metadata": {},
   "source": [
    "Now, merge the two datasets together."
   ]
  },
  {
   "cell_type": "code",
   "execution_count": null,
   "metadata": {},
   "outputs": [],
   "source": [
    "station_plus_water = (\n",
    "    gpd.sjoin_nearest(\n",
    "        stations, all_water_bodies, how=\"left\", distance_col=\"dist_to_water\", rsuffix=\"_water\"\n",
    "    )\n",
    "    .sort_values(\"dist_to_water\", ascending=False)\n",
    "    .groupby(\"AcousticSite\")\n",
    "    .nth(0)\n",
    ")\n",
    "\n",
    "nearest_water = all_water_bodies.loc[station_plus_water[\"index__water\"]]\n",
    "\n",
    "# station_plus_water = station_plus_water.set_geometry(\"geometry\")\n",
    "\n",
    "station_plus_water = station_plus_water.to_crs(\"EPSG:4326\")\n",
    "station_plus_water.plot()\n",
    "\n",
    "water_geom = nearest_water[[\"NAME\", \"geometry\"]].to_crs(\"EPSG:4326\")\n",
    "water_geom.plot()\n"
   ]
  },
  {
   "cell_type": "code",
   "execution_count": null,
   "metadata": {},
   "outputs": [],
   "source": [
    "water_geom[\"NAME\"]"
   ]
  },
  {
   "cell_type": "code",
   "execution_count": null,
   "metadata": {},
   "outputs": [],
   "source": [
    "m = folium.Map(zoom_start=4, location=[38.5, -90.0])\n",
    "\n",
    "plotted_geoms = set()\n",
    "i = 0\n",
    "for (row, water_geo) in zip(station_plus_water.iterrows(), water_geom.iterrows()):\n",
    "\n",
    "    # print(i)\n",
    "    _, r = row\n",
    "    _, w = water_geo\n",
    "    poly_dat = gpd.GeoSeries(r[\"geometry\"]).to_json()\n",
    "\n",
    "    water_dat = gpd.GeoSeries(w[\"geometry\"]).to_json()\n",
    "    geo_j = folium.GeoJson(data=poly_dat)\n",
    "    water_j = folium.GeoJson(data=water_dat)\n",
    "    info = pd.DataFrame(\n",
    "        r[[\"AcousticSite\", 2011, 2012, 2013, 2014, 2015, 2016, 2017, 2018, \"dist_to_water\", \"NAME\"]],\n",
    "    ).to_html()\n",
    "\n",
    "    w_info = w[\"NAME\"]\n",
    "\n",
    "    folium.Popup(info).add_to(geo_j)\n",
    "    folium.Popup(w_info).add_to(water_j)\n",
    "\n",
    "    geo_j.add_to(m)\n",
    "    if water_dat not in plotted_geoms:\n",
    "        water_j.add_to(m)\n",
    "        plotted_geoms.add(water_dat)\n",
    "\n",
    "    i += 1\n",
    "    if i % 50 == 0:\n",
    "        print(f\"{i} ({i/len(station_plus_water)*100:.0f}%)\")\n",
    "    \n",
    "\n",
    "m"
   ]
  },
  {
   "cell_type": "code",
   "execution_count": null,
   "metadata": {},
   "outputs": [],
   "source": [
    "m.save(\"bat_maps_distance.html\")\n"
   ]
  }
 ],
 "metadata": {
  "kernelspec": {
   "display_name": "bats",
   "language": "python",
   "name": "python3"
  },
  "language_info": {
   "codemirror_mode": {
    "name": "ipython",
    "version": 3
   },
   "file_extension": ".py",
   "mimetype": "text/x-python",
   "name": "python",
   "nbconvert_exporter": "python",
   "pygments_lexer": "ipython3",
   "version": "3.13.2"
  }
 },
 "nbformat": 4,
 "nbformat_minor": 2
}
